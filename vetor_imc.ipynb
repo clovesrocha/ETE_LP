{
  "nbformat": 4,
  "nbformat_minor": 0,
  "metadata": {
    "colab": {
      "provenance": [],
      "authorship_tag": "ABX9TyNJ5/0bhECQ8f8YyTSrQgYe",
      "include_colab_link": true
    },
    "kernelspec": {
      "name": "python3",
      "display_name": "Python 3"
    },
    "language_info": {
      "name": "python"
    }
  },
  "cells": [
    {
      "cell_type": "markdown",
      "metadata": {
        "id": "view-in-github",
        "colab_type": "text"
      },
      "source": [
        "<a href=\"https://colab.research.google.com/github/clovesrocha/ETE_LP/blob/main/vetor_imc.ipynb\" target=\"_parent\"><img src=\"https://colab.research.google.com/assets/colab-badge.svg\" alt=\"Open In Colab\"/></a>"
      ]
    },
    {
      "cell_type": "code",
      "execution_count": null,
      "metadata": {
        "colab": {
          "base_uri": "https://localhost:8080/"
        },
        "id": "jNl9H55qPCV1",
        "outputId": "bf28acf1-58c4-485d-bd5a-0157b8d12bae"
      },
      "outputs": [
        {
          "output_type": "stream",
          "name": "stdout",
          "text": [
            "[181, 100, 40]\n"
          ]
        }
      ],
      "source": [
        "#Aula Vetores d1_altura, d2_peso e d3_idade\n",
        "imc = [181, 100, 40] \n",
        "print(imc)"
      ]
    },
    {
      "cell_type": "code",
      "source": [
        "# Vetor de notas n1, n2, n3 e n4\n",
        "\n",
        "notas = [10, 9, 8, 5]\n",
        "print(notas)"
      ],
      "metadata": {
        "colab": {
          "base_uri": "https://localhost:8080/"
        },
        "id": "XLIVO3EEP-O3",
        "outputId": "fa94a3a7-171f-4f94-b388-9310ddd7e7a8"
      },
      "execution_count": null,
      "outputs": [
        {
          "output_type": "stream",
          "name": "stdout",
          "text": [
            "[10, 9, 8, 5]\n"
          ]
        }
      ]
    },
    {
      "cell_type": "code",
      "source": [
        "# Soma de Vetores\n",
        "#def vet_add(sem1, sem2):\n",
        "\n",
        "sem1 = [10, 9, 8, 7]\n",
        "sem2 = [6, 5, 4, 3]\n",
        "#return [sem1 + sem2]\n",
        "#Corrija o erro...\n",
        "media = (sem1 + sem2)/2\n",
        "print(media)\n",
        "\n",
        "\n"
      ],
      "metadata": {
        "id": "Okx3nZFFPnLq"
      },
      "execution_count": null,
      "outputs": []
    },
    {
      "cell_type": "code",
      "source": [
        "# Notas do primeiro semestre\n",
        "semestre1 = [8, 7, 9, 6]\n",
        "\n",
        "# Notas do segundo semestre\n",
        "semestre2 = [6, 7, 8, 9]\n",
        "\n",
        "# Função para calcular a média de um vetor de notas\n",
        "def calcular_media(notas):\n",
        "    soma = sum(notas)\n",
        "    media = soma / len(notas)\n",
        "    return media\n",
        "\n",
        "# Calculando as médias dos semestres\n",
        "media_semestre1 = calcular_media(semestre1)\n",
        "media_semestre2 = calcular_media(semestre2)\n",
        "\n",
        "# Calculando a média final do estudante\n",
        "media_final = (media_semestre1 + media_semestre2) / 2\n",
        "\n",
        "# Imprimindo a média final\n",
        "print(\"Média final do estudante:\", media_final)\n"
      ],
      "metadata": {
        "colab": {
          "base_uri": "https://localhost:8080/"
        },
        "id": "6gCUa27j_9-5",
        "outputId": "7d12ed61-092d-443a-ae05-cea9cf203a33"
      },
      "execution_count": 1,
      "outputs": [
        {
          "output_type": "stream",
          "name": "stdout",
          "text": [
            "Média final do estudante: 7.5\n"
          ]
        }
      ]
    }
  ]
}