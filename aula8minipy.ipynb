{
  "nbformat": 4,
  "nbformat_minor": 0,
  "metadata": {
    "colab": {
      "provenance": [],
      "authorship_tag": "ABX9TyPfz7W5M9vOilq18AyOzh4i",
      "include_colab_link": true
    },
    "kernelspec": {
      "name": "python3",
      "display_name": "Python 3"
    },
    "language_info": {
      "name": "python"
    }
  },
  "cells": [
    {
      "cell_type": "markdown",
      "metadata": {
        "id": "view-in-github",
        "colab_type": "text"
      },
      "source": [
        "<a href=\"https://colab.research.google.com/github/clovesrocha/ETE_LP/blob/main/aula8minipy.ipynb\" target=\"_parent\"><img src=\"https://colab.research.google.com/assets/colab-badge.svg\" alt=\"Open In Colab\"/></a>"
      ]
    },
    {
      "cell_type": "code",
      "execution_count": 6,
      "metadata": {
        "colab": {
          "base_uri": "https://localhost:8080/"
        },
        "id": "2rY5RZr7IUyH",
        "outputId": "f9e394fd-3143-4d98-9a6f-c6623043b6f4"
      },
      "outputs": [
        {
          "output_type": "stream",
          "name": "stdout",
          "text": [
            "Digite um número: 2\n",
            "O número 2 é par!\n"
          ]
        }
      ],
      "source": [
        "#ETE Cícero Dias\n",
        "#LP - Prof. Cloves\n",
        "#Minicurso de Python\n",
        "#Estrutura de Condicionais\n",
        "\n",
        "num = int(input('Digite um número: '))\n",
        "if num % 2 == 0:\n",
        "  print(f'O número {num} é par!')\n",
        "else:\n",
        "  print(f'O número {num} é ímpar')"
      ]
    },
    {
      "cell_type": "code",
      "source": [
        "num = float(input('Digite um número: '))\n",
        "if num > 0:\n",
        "  print('Este número é positivo')\n",
        "elif num == 0:\n",
        "  print('Este número é neutro')\n",
        "else:\n",
        "  print('Este número é negativo')\n"
      ],
      "metadata": {
        "colab": {
          "base_uri": "https://localhost:8080/"
        },
        "id": "hp0mHVbdKbrM",
        "outputId": "cd074ff6-b3e3-496e-972b-9567f3383ea5"
      },
      "execution_count": 10,
      "outputs": [
        {
          "output_type": "stream",
          "name": "stdout",
          "text": [
            "Digite um número: -11\n",
            "Este número é negativo\n"
          ]
        }
      ]
    },
    {
      "cell_type": "code",
      "source": [
        "resposta = int(input('Qual sua idede:'))\n",
        "if resposta >=18 and resposta <=65:\n",
        "  print('Você é obrigado por votar!')\n",
        "else: \n",
        "  print('Você não é obrigado a votar!')"
      ],
      "metadata": {
        "colab": {
          "base_uri": "https://localhost:8080/"
        },
        "id": "FF_4AEqiMERg",
        "outputId": "f38b328b-6fff-4688-a6b0-2ad1e9509f53"
      },
      "execution_count": 12,
      "outputs": [
        {
          "output_type": "stream",
          "name": "stdout",
          "text": [
            "Qual sua idede:22\n",
            "Você é obrigado por votar!\n"
          ]
        }
      ]
    },
    {
      "cell_type": "code",
      "source": [
        "print('1. Idoso')\n",
        "print('2. Gestante')\n",
        "print('3. Cadeirante')\n",
        "print('4. Nenhum destes')\n",
        "resposta = int(input('Você é:'))\n",
        "if (resposta==1) or (resposta==2) or (resposta==3):\n",
        "  print('Você tem direito a fila prioritária')\n",
        "else:\n",
        "  print('Você não tem direito a nada. Vá pra fila e fique quieto.')\n"
      ],
      "metadata": {
        "colab": {
          "base_uri": "https://localhost:8080/"
        },
        "id": "6pShZUc1M-E2",
        "outputId": "9fb383a5-a58a-4d18-d30a-580670c1cb75"
      },
      "execution_count": 16,
      "outputs": [
        {
          "output_type": "stream",
          "name": "stdout",
          "text": [
            "1. Idoso\n",
            "2. Gestante\n",
            "3. Cadeirante\n",
            "4. Nenhum destes\n",
            "Você é:8\n",
            "Você não tem direito a nada. Vá pra fila e fique quieto.\n"
          ]
        }
      ]
    },
    {
      "cell_type": "markdown",
      "source": [
        "Operador not"
      ],
      "metadata": {
        "id": "p3KAnEQqOvHT"
      }
    },
    {
      "cell_type": "code",
      "source": [
        "a = 4\n",
        "b = 2\n",
        "print(not a > b)\n"
      ],
      "metadata": {
        "colab": {
          "base_uri": "https://localhost:8080/"
        },
        "id": "-w4LWK10OpEd",
        "outputId": "5f2cd26f-b035-46d3-bfba-5f64fe6e515f"
      },
      "execution_count": 21,
      "outputs": [
        {
          "output_type": "stream",
          "name": "stdout",
          "text": [
            "False\n"
          ]
        }
      ]
    },
    {
      "cell_type": "code",
      "source": [
        "banda = input('Qual melhor banda do mundo?')\n",
        "if not banda=='Beatles':\n",
        "  print('Herege!')\n",
        "else:\n",
        "  print('Correto, são os Beatles!')"
      ],
      "metadata": {
        "colab": {
          "base_uri": "https://localhost:8080/"
        },
        "id": "R76vJKSBOVxH",
        "outputId": "e1860534-7fd5-46e6-d659-a1f4e7b7b217"
      },
      "execution_count": 22,
      "outputs": [
        {
          "output_type": "stream",
          "name": "stdout",
          "text": [
            "Qual melhor banda do mundo?Beatles\n",
            "Correto, são os Beatles!\n"
          ]
        }
      ]
    },
    {
      "cell_type": "code",
      "source": [
        "#Função range():\n",
        "a = int(input('Digite um número: '))\n",
        "if a in range(1, 300):\n",
        "  print(f'{a} está entre 1 e 300.')\n",
        "else:\n",
        "  print(f'{a} não está entre 1 e 300.')"
      ],
      "metadata": {
        "colab": {
          "base_uri": "https://localhost:8080/"
        },
        "id": "eOel1nXNP5dw",
        "outputId": "288e24af-3e9e-4c77-a95e-99e89a406e6c"
      },
      "execution_count": 27,
      "outputs": [
        {
          "output_type": "stream",
          "name": "stdout",
          "text": [
            "Digite um número: 0\n",
            "0 não está entre 1 e 300.\n"
          ]
        }
      ]
    }
  ]
}