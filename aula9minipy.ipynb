{
  "nbformat": 4,
  "nbformat_minor": 0,
  "metadata": {
    "colab": {
      "provenance": [],
      "authorship_tag": "ABX9TyNGd8+Cj/Dc5FWn3ST0lxJb",
      "include_colab_link": true
    },
    "kernelspec": {
      "name": "python3",
      "display_name": "Python 3"
    },
    "language_info": {
      "name": "python"
    }
  },
  "cells": [
    {
      "cell_type": "markdown",
      "metadata": {
        "id": "view-in-github",
        "colab_type": "text"
      },
      "source": [
        "<a href=\"https://colab.research.google.com/github/clovesrocha/ETE_LP/blob/main/aula9minipy.ipynb\" target=\"_parent\"><img src=\"https://colab.research.google.com/assets/colab-badge.svg\" alt=\"Open In Colab\"/></a>"
      ]
    },
    {
      "cell_type": "code",
      "execution_count": 1,
      "metadata": {
        "colab": {
          "base_uri": "https://localhost:8080/"
        },
        "id": "2rY5RZr7IUyH",
        "outputId": "79f83ea5-231a-436d-d49e-d9a40b9333d4"
      },
      "outputs": [
        {
          "output_type": "stream",
          "name": "stdout",
          "text": [
            "[181, 100, 40]\n"
          ]
        }
      ],
      "source": [
        "#ETE Cícero Dias\n",
        "#LP - Prof. Cloves\n",
        "#Minicurso de Python\n",
        "#11. Um pouco de Álgebra Linear (espaços vetorias)\n",
        "\n",
        "imc = [181, #altura\n",
        "       100, #peso\n",
        "       40 ] #idade\n",
        "print(imc)"
      ]
    },
    {
      "cell_type": "markdown",
      "source": [
        "A Álgebra Linear é um ramo da matemática que lida com espaços vetoriais. Apesar de achar que neste tópico não vou conseguir ensinar álgebra linear de forma plena, ela sustenta um grande número de conceitos e técnicas de data science, o que significa que eu devo a você, ao menos, uma tentativa. O que aprenderemos neste tópico, usaremos excessivamente no decorrer do ano.   \n",
        "a. Vetores\n",
        "Abstratamente, os vetores são objetos que podem ser somados juntos (para formar vetores novos) e que podem ser multiplicados pelos escalares (por exemplo, números), também para formar vetores novos.\n",
        "Concretamente (para nós), os vetores são pontos em algum espaço de dimensão finita. Apesar de você não pensar em seus dados como vetores, eles são uma ótima maneira de representar dados numéricos.\n",
        "Por exemplo, se você tiver as alturas, pesos e idades de uma grande quantidade de pessoas, pode tratar seus dados como vetores tridimensionais (altura, peso, idade). Se você estiver ensinando uma turma com quatro testes, pode tratar as notas dos estudantes como vetores quadridimensionais (teste1, teste2, teste3, teste4).\n",
        "A abordagem inicial mais simples é representar vetores como listas de números. Uma lista de três números corresponde a um vetor em um espaço tridimensional, e vice-versa, observe:   "
      ],
      "metadata": {
        "id": "tOFMkKa_QuQc"
      }
    },
    {
      "cell_type": "code",
      "source": [
        "notas = [10,#teste1\n",
        "        9,  #teste2\n",
        "        8,  #teste3\n",
        "        7 ] #teste4\n",
        "print(notas)"
      ],
      "metadata": {
        "colab": {
          "base_uri": "https://localhost:8080/"
        },
        "id": "vQsEDf3uQOIy",
        "outputId": "6de69674-8d25-490e-9a05-cb89160ef66e"
      },
      "execution_count": 2,
      "outputs": [
        {
          "output_type": "stream",
          "name": "stdout",
          "text": [
            "[10, 9, 8, 7]\n"
          ]
        }
      ]
    },
    {
      "cell_type": "markdown",
      "source": [
        "Um problema com essa abordagem é que queremos realizar aritmética nos vetores. Como as listas de Python não são vetores (e, portanto, não facilita a aritmética com o vetor), precisaremos construir essas ferramentas aritméticas nós mesmos. Então, vamos começar por aí.\n",
        "Para iniciar, frequentemente precisamos de dois vetores. Os vetores se adicionam componente a componente. Isso significa que, se dois vetores vetA e vetB possuem o mesmo tamanho, sua soma é somente o vetor cujo primeiro elemento seja vetA[0] + vetB[0], cujo o segundo elemento seja vetA[1] + vetB[1], e assim por diante. \n",
        "\n",
        "ATENÇÃO:\n",
        "\n",
        "Por exemplo, somar os vetores [1, 2] e [2, 1] resulta em [1 + 2, 2  + 1 ] ou [3, 3].\n",
        "Podemos facilmente implementar isso com vetores zip juntos e usar uma compreensão de lista para adicionar os elementos correspondentes:\n"
      ],
      "metadata": {
        "id": "SnPfU_diQaxm"
      }
    },
    {
      "cell_type": "code",
      "source": [
        "\n",
        "def vet_add(vet1, vet2):\n",
        "   #soma elementos correspondentes\n",
        " return [vet1_i + vet2_i\n",
        "         for vet1_i, vet2_i in zip(vet1, vet2)] "
      ],
      "metadata": {
        "id": "uPyBiQIyQXls"
      },
      "execution_count": 3,
      "outputs": []
    },
    {
      "cell_type": "markdown",
      "source": [
        "Da mesma forma, para subtrair dois vetores, apenas subtraia os elementos correspondentes: \n"
      ],
      "metadata": {
        "id": "IUPijVUDRDKK"
      }
    },
    {
      "cell_type": "code",
      "source": [
        "\n",
        "def vet_sub(vet1, vet2):\n",
        "   #subtrai elementos correspondentes\n",
        " return [vet1_i - vet2_i\n",
        "         for vet1_i, vet2_i in zip(vet1, vet2)] \n",
        "\n"
      ],
      "metadata": {
        "id": "iD-S1TzARKmM"
      },
      "execution_count": null,
      "outputs": []
    },
    {
      "cell_type": "markdown",
      "source": [
        "Às vezes queremos somar uma lista de vetores, ou seja, criar um vetor novo cujo primeiro elemento seja a soma de todos os primeiros elementos, cujo segundo elemento seja a soma de todos os segundos elementos, e assim sucessivamente. A maneira mais fácil de fazer isso é adicionar um vetor de cada vez:"
      ],
      "metadata": {
        "id": "RFQUcvmERUiH"
      }
    },
    {
      "cell_type": "code",
      "source": [
        "\n",
        "def vet_sum(vets):\n",
        "# soma todos os elementos correspondentes\n",
        " result = vets[0]     # começa com o primeiro vetor\n",
        " for vet in vets[1:]: # depois passa por todos os outros\n",
        "   result = vet_add(result, vet) # e os adiciona ao resultado\n",
        " return result\n",
        "\n"
      ],
      "metadata": {
        "id": "4wmktNikRXij"
      },
      "execution_count": 5,
      "outputs": []
    },
    {
      "cell_type": "markdown",
      "source": [
        "Disponível em: https://github.com/clovesrocha/ETEPDLPC/blob/master/sumvetselemcorresp.ipynb \n",
        "Se você pensar a respeito, estamos apenas reduzindo (reducing) a lista de vetores usando vet_add , o que significa que podemos reescrever de forma reduzida usando funções de alta ordem:\n"
      ],
      "metadata": {
        "id": "bJ5RylRMRbQS"
      }
    },
    {
      "cell_type": "code",
      "source": [
        "def vet_sum(vets):\n",
        "return reduz(vet_add, vets)\n"
      ],
      "metadata": {
        "id": "SYCC_3juReZm"
      },
      "execution_count": null,
      "outputs": []
    },
    {
      "cell_type": "markdown",
      "source": [
        "ou até mesmo: "
      ],
      "metadata": {
        "id": "MTkb9S51Rp5j"
      }
    },
    {
      "cell_type": "code",
      "source": [
        "vet_sum = part(reduz,vet_add)\n"
      ],
      "metadata": {
        "id": "hFAMMqrbRu5o"
      },
      "execution_count": null,
      "outputs": []
    },
    {
      "cell_type": "markdown",
      "source": [
        "embora esse último seja mais esperto do que útil.\n",
        "Também precisamos ser capazes de multiplicar um vetor por um escalar, que simplesmente fazemos ao multiplicar cada elemento do vetor por aquele número:\n"
      ],
      "metadata": {
        "id": "6C218uXnR-Ml"
      }
    },
    {
      "cell_type": "code",
      "source": [
        "def scalar_mult(c, v):\n",
        " #c é um número, v é um vetor\n",
        " return [c * v_i for v_i in v]\n"
      ],
      "metadata": {
        "id": "57f7K7HqR_0g"
      },
      "execution_count": null,
      "outputs": []
    },
    {
      "cell_type": "markdown",
      "source": [
        "b. Matrizes\n",
        "Em desenvolvimento… no GitHub, Repositório Oficial da Disciplina, acesso em: https://github.com/clovesrocha/ETEPDLPC \n",
        "c. Filas\n",
        "Em desenvolvimento\n"
      ],
      "metadata": {
        "id": "Lxz7xcRFSKuL"
      }
    }
  ]
}