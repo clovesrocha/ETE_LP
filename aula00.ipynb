{
  "nbformat": 4,
  "nbformat_minor": 0,
  "metadata": {
    "colab": {
      "provenance": [],
      "authorship_tag": "ABX9TyP4+869WZQzDI103rwVlSD5",
      "include_colab_link": true
    },
    "kernelspec": {
      "name": "python3",
      "display_name": "Python 3"
    },
    "language_info": {
      "name": "python"
    }
  },
  "cells": [
    {
      "cell_type": "markdown",
      "metadata": {
        "id": "view-in-github",
        "colab_type": "text"
      },
      "source": [
        "<a href=\"https://colab.research.google.com/github/clovesrocha/ETE_LP/blob/main/aula00.ipynb\" target=\"_parent\"><img src=\"https://colab.research.google.com/assets/colab-badge.svg\" alt=\"Open In Colab\"/></a>"
      ]
    },
    {
      "cell_type": "code",
      "execution_count": 1,
      "metadata": {
        "colab": {
          "base_uri": "https://localhost:8080/"
        },
        "id": "O8hcRmMPBiQf",
        "outputId": "af28a251-c109-47ed-9c83-a8525f8f114b"
      },
      "outputs": [
        {
          "output_type": "stream",
          "name": "stdout",
          "text": [
            "ESCREVA AQUI SEU CÓDIGO\n"
          ]
        }
      ],
      "source": [
        "# ESCREVE AQUI UM COMENTÁRIO\n",
        "print('ESCREVA AQUI SEU CÓDIGO')"
      ]
    },
    {
      "cell_type": "code",
      "source": [
        "x = 2\n",
        "print(type(x))"
      ],
      "metadata": {
        "colab": {
          "base_uri": "https://localhost:8080/"
        },
        "id": "XDPGIYvBCq4T",
        "outputId": "82b4207d-bf0e-4514-ea48-cca8dec7a16c"
      },
      "execution_count": 2,
      "outputs": [
        {
          "output_type": "stream",
          "name": "stdout",
          "text": [
            "<class 'int'>\n"
          ]
        }
      ]
    },
    {
      "cell_type": "code",
      "source": [
        "x = 'Olá mundo!'\n",
        "print(x)\n",
        "print(type(x))"
      ],
      "metadata": {
        "colab": {
          "base_uri": "https://localhost:8080/"
        },
        "id": "P80XSZgrDhtA",
        "outputId": "f8b3f7ce-489e-494b-a0a1-51a486fe0c01"
      },
      "execution_count": 3,
      "outputs": [
        {
          "output_type": "stream",
          "name": "stdout",
          "text": [
            "Olá mundo!\n",
            "<class 'str'>\n"
          ]
        }
      ]
    },
    {
      "cell_type": "code",
      "source": [
        "x = 2 \n",
        "y = 2\n",
        "print(x == y)"
      ],
      "metadata": {
        "colab": {
          "base_uri": "https://localhost:8080/"
        },
        "id": "0q9Yn9HZECtu",
        "outputId": "5d297bd0-7981-4d9d-8c06-eae447a4cf2c"
      },
      "execution_count": 5,
      "outputs": [
        {
          "output_type": "stream",
          "name": "stdout",
          "text": [
            "True\n"
          ]
        }
      ]
    },
    {
      "cell_type": "code",
      "source": [
        "x = 2**3\n",
        "print(x)"
      ],
      "metadata": {
        "colab": {
          "base_uri": "https://localhost:8080/"
        },
        "id": "u-VvcSVUEWM2",
        "outputId": "16e6267b-6639-4b8f-8245-8696799c8080"
      },
      "execution_count": 6,
      "outputs": [
        {
          "output_type": "stream",
          "name": "stdout",
          "text": [
            "8\n"
          ]
        }
      ]
    },
    {
      "cell_type": "code",
      "source": [
        "x = 10//3 \n",
        "print(x)"
      ],
      "metadata": {
        "colab": {
          "base_uri": "https://localhost:8080/"
        },
        "id": "tGDrgXJMEwfk",
        "outputId": "8eacc644-8333-46fe-c60f-489669a4e1c5"
      },
      "execution_count": 7,
      "outputs": [
        {
          "output_type": "stream",
          "name": "stdout",
          "text": [
            "3\n"
          ]
        }
      ]
    },
    {
      "cell_type": "code",
      "source": [
        "x = 10%3 \n",
        "print(x)"
      ],
      "metadata": {
        "colab": {
          "base_uri": "https://localhost:8080/"
        },
        "id": "EFPmegVcFA-V",
        "outputId": "66697f27-78cf-4841-c1b9-3b8dfaa83285"
      },
      "execution_count": 8,
      "outputs": [
        {
          "output_type": "stream",
          "name": "stdout",
          "text": [
            "1\n"
          ]
        }
      ]
    },
    {
      "cell_type": "code",
      "source": [
        "aline = 3\n",
        "bruna = 3\n",
        "print(aline >= bruna)"
      ],
      "metadata": {
        "colab": {
          "base_uri": "https://localhost:8080/"
        },
        "id": "leshU_fxFevO",
        "outputId": "d1883bc7-a299-4523-96c6-d2ad5929eba5"
      },
      "execution_count": 12,
      "outputs": [
        {
          "output_type": "stream",
          "name": "stdout",
          "text": [
            "True\n"
          ]
        }
      ]
    },
    {
      "cell_type": "code",
      "source": [
        "media = 2\n",
        "print(f'A média do estudante é: {media}.')"
      ],
      "metadata": {
        "colab": {
          "base_uri": "https://localhost:8080/"
        },
        "id": "BjwjRSuTG4bp",
        "outputId": "78b0f921-7982-4cb8-82c9-451fd75c3b2f"
      },
      "execution_count": 14,
      "outputs": [
        {
          "output_type": "stream",
          "name": "stdout",
          "text": [
            "A média do estudante é: 2.\n"
          ]
        }
      ]
    },
    {
      "cell_type": "code",
      "source": [
        "nome = input('Digite seu nome: ')\n",
        "idade = input('Digite sua idade: ')\n",
        "endereco = input('Digite seu endereço: ')\n",
        "matricula = input('Digite sua matrícula:')\n",
        "print(f'Seu nome é: {nome}.')\n",
        "print(f'Sua idade é: {idade}.')\n",
        "print(f'Seu endereco é: {endereco}.')\n",
        "print(f'Sua matrícula é: {matricula}.')\n"
      ],
      "metadata": {
        "colab": {
          "base_uri": "https://localhost:8080/"
        },
        "id": "kqINHCPeH4HD",
        "outputId": "9fc8cae8-30bf-4362-af57-fc1af573b598"
      },
      "execution_count": 15,
      "outputs": [
        {
          "output_type": "stream",
          "name": "stdout",
          "text": [
            "Digite seu nome: Adelton\n",
            "Digite sua idade: 24\n",
            "Digite seu endereço: Rua Prazeres\n",
            "Digite sua matrícula:2024\n",
            "Seu nome é: Adelton.\n",
            "Sua idade é: 24.\n",
            "Seu endereco é: Rua Prazeres.\n",
            "Sua matrícula é: 2024.\n"
          ]
        }
      ]
    },
    {
      "cell_type": "code",
      "source": [
        "nome = str(input('Digite seu nome: '))\n",
        "print(f'Seu nome {nome}.')\n",
        "print(type(nome))"
      ],
      "metadata": {
        "colab": {
          "base_uri": "https://localhost:8080/"
        },
        "id": "-UMEBR98JEN8",
        "outputId": "15588454-fa7b-46f7-f4ac-b09c07fdd748"
      },
      "execution_count": 18,
      "outputs": [
        {
          "output_type": "stream",
          "name": "stdout",
          "text": [
            "Digite seu nome: Cloves\n",
            "Seu nome Cloves.\n",
            "<class 'str'>\n"
          ]
        }
      ]
    }
  ]
}