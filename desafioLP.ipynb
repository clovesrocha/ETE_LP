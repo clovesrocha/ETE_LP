{
  "nbformat": 4,
  "nbformat_minor": 0,
  "metadata": {
    "colab": {
      "provenance": [],
      "authorship_tag": "ABX9TyMULZ8iTm2xwOkKpbYDsWEI",
      "include_colab_link": true
    },
    "kernelspec": {
      "name": "python3",
      "display_name": "Python 3"
    },
    "language_info": {
      "name": "python"
    }
  },
  "cells": [
    {
      "cell_type": "markdown",
      "metadata": {
        "id": "view-in-github",
        "colab_type": "text"
      },
      "source": [
        "<a href=\"https://colab.research.google.com/github/clovesrocha/ETE_LP/blob/main/desafioLP.ipynb\" target=\"_parent\"><img src=\"https://colab.research.google.com/assets/colab-badge.svg\" alt=\"Open In Colab\"/></a>"
      ]
    },
    {
      "cell_type": "code",
      "execution_count": null,
      "metadata": {
        "id": "FCOIBC_BCiTO"
      },
      "outputs": [],
      "source": [
        "#Prof. Cloves Rocha\n",
        "# Dado dois vetores ordenados de forma crescente, implemente uma função chamada merge_vetores que receba esses dois vetores como parâmetros e retorne um novo vetor que seja a fusão ordenada dos dois vetores de entrada.\n",
        "\n",
        "#Exemplo de entrada:\n",
        "\n",
        "vetor1 = [1, 3, 5, 7, 9]\n",
        "vetor2 = [2, 4, 6, 8, 10]\n",
        "\n",
        "#Exemplo de saída:\n",
        "\n",
        "resultado = [1, 2, 3, 4, 5, 6, 7, 8, 9, 10]\n",
        "\n",
        "#Seu objetivo é implementar a função merge_vetores de forma eficiente, sem usar funções prontas do Python, como sort ou sorted. Você pode criar funções auxiliares, se necessário.\n",
        "\n",
        "#Dica: Use a técnica de intercalação (merge) dos dois vetores para formar o vetor final ordenado.\n",
        "\n",
        "# Boa atividade!"
      ]
    }
  ]
}